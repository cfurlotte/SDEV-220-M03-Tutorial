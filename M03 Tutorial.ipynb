{
 "cells": [
  {
   "cell_type": "code",
   "execution_count": 1,
   "id": "45e85176",
   "metadata": {},
   "outputs": [],
   "source": [
    "class Solution:\n",
    "    def sort012(self,arr,n):\n",
    "        # code here\n",
    "        self.arr = arr\n",
    "        self.n = n\n",
    "        self.arr.sort()\n"
   ]
  },
  {
   "cell_type": "code",
   "execution_count": 4,
   "id": "242fed1f",
   "metadata": {},
   "outputs": [],
   "source": [
    "#User function template for Python\n",
    "\n",
    "class Solution:\t\n",
    "    def binarysearch(self, arr, n, k):\n",
    "        # code here\n",
    "        self.arr = arr\n",
    "        self.n = n\n",
    "        self.k = k\n",
    "        self.tempNum = 0\n",
    "        self.hasPassed = False\n",
    "        while self.tempNum < n:\n",
    "            if self.arr[self.tempNum] == self.k:\n",
    "                return self.tempNum\n",
    "                self.hasPassed = True\n",
    "            self.tempNum += 1\n",
    "        if self.hasPassed == False:\n",
    "            return -1"
   ]
  },
  {
   "cell_type": "code",
   "execution_count": null,
   "id": "3ecfcb86",
   "metadata": {},
   "outputs": [],
   "source": []
  }
 ],
 "metadata": {
  "kernelspec": {
   "display_name": "Python 3 (ipykernel)",
   "language": "python",
   "name": "python3"
  },
  "language_info": {
   "codemirror_mode": {
    "name": "ipython",
    "version": 3
   },
   "file_extension": ".py",
   "mimetype": "text/x-python",
   "name": "python",
   "nbconvert_exporter": "python",
   "pygments_lexer": "ipython3",
   "version": "3.11.5"
  }
 },
 "nbformat": 4,
 "nbformat_minor": 5
}
